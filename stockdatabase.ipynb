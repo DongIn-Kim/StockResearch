{
  "nbformat": 4,
  "nbformat_minor": 0,
  "metadata": {
    "colab": {
      "name": "stockdatabase.ipynb",
      "provenance": [],
      "collapsed_sections": [],
      "authorship_tag": "ABX9TyPkJKi1CLplmSXEcblb5+XH",
      "include_colab_link": true
    },
    "kernelspec": {
      "name": "python3",
      "display_name": "Python 3"
    }
  },
  "cells": [
    {
      "cell_type": "markdown",
      "metadata": {
        "id": "view-in-github",
        "colab_type": "text"
      },
      "source": [
        "<a href=\"https://colab.research.google.com/github/DongIn-Kim/StockResearch/blob/main/stockdatabase.ipynb\" target=\"_parent\"><img src=\"https://colab.research.google.com/assets/colab-badge.svg\" alt=\"Open In Colab\"/></a>"
      ]
    },
    {
      "cell_type": "code",
      "metadata": {
        "colab": {
          "base_uri": "https://localhost:8080/"
        },
        "id": "0zZCYgRbkMDZ",
        "outputId": "26016df3-71b6-4f68-d595-f6f98aad94d0"
      },
      "source": [
        "pip install pymysql"
      ],
      "execution_count": 2,
      "outputs": [
        {
          "output_type": "stream",
          "text": [
            "Collecting pymysql\n",
            "\u001b[?25l  Downloading https://files.pythonhosted.org/packages/4f/52/a115fe175028b058df353c5a3d5290b71514a83f67078a6482cff24d6137/PyMySQL-1.0.2-py3-none-any.whl (43kB)\n",
            "\r\u001b[K     |███████▌                        | 10kB 15.3MB/s eta 0:00:01\r\u001b[K     |███████████████                 | 20kB 20.9MB/s eta 0:00:01\r\u001b[K     |██████████████████████▍         | 30kB 14.1MB/s eta 0:00:01\r\u001b[K     |██████████████████████████████  | 40kB 10.8MB/s eta 0:00:01\r\u001b[K     |████████████████████████████████| 51kB 3.9MB/s \n",
            "\u001b[?25hInstalling collected packages: pymysql\n",
            "Successfully installed pymysql-1.0.2\n"
          ],
          "name": "stdout"
        }
      ]
    },
    {
      "cell_type": "code",
      "metadata": {
        "id": "JzhBatMAq71H"
      },
      "source": [
        "import pymysql\r\n",
        "\r\n",
        "class DBUpdater:\r\n",
        "    def __init__(self):\r\n",
        "      self.conn = pymysql.connent(host='localhost', user='root', password='SRquant21!', db='INVESTAR', charset='utf8')\r\n",
        "\r\n",
        "      with self.conn.cursor() as curs:\r\n",
        "        sql = \"\"\"\r\n",
        "        CREATE TABLE IF NOT EXISTS company_info (\r\n",
        "          code VARCHAR(20),\r\n",
        "          company VARCHAR(40),\r\n",
        "\t        last_update DATE,\r\n",
        "\t        PRIMARY KEY (CODE))\r\n",
        "        \"\"\"\r\n",
        "        curs.execute(sql)\r\n",
        "        sql = \"\"\"\r\n",
        "        CREATE TABLE IF NOT EXISTS daily_price (\r\n",
        "          CODE VARCHAR(20),\r\n",
        "          DATE DATE,\r\n",
        "          OPEN BIGINT(20),\r\n",
        "          high BIGINT(20),\r\n",
        "          low BIGINT(20),\r\n",
        "          close BIGINT(20),\r\n",
        "          diff BIGINT(20),\r\n",
        "          volume BIGINT(20),\r\n",
        "          PRIMARY KEY (CODE,DATE))\r\n",
        "        \"\"\"\r\n",
        "\r\n",
        "        curs.execute(sql)\r\n",
        "      self.conn.commit()\r\n",
        "\r\n",
        "      self.codes = dict()\r\n",
        "      self.update_comp_info()()\r\n",
        "\r\n",
        "    def __del__(self):\r\n",
        "      \"\"\"소멸자: MariaDB 연결 해제\"\"\"\r\n",
        "      self.conn.close()"
      ],
      "execution_count": 3,
      "outputs": []
    },
    {
      "cell_type": "code",
      "metadata": {
        "id": "4LMJnPatspPR"
      },
      "source": [
        "import pandas as pd\r\n",
        "class DBUpdater :\r\n",
        "    def read_krx_code(self):\r\n",
        "      url = 'https://kind.krx.co.kr/corpgeneral/corpList.do?method=loadInitPage'\r\n",
        "      krx = pd.read_heml(url, header=0)[0]\r\n",
        "      krx = krx[['종목코드', '회사명']]\r\n",
        "      krx = krx.rename(columns={'종목코드':'code','회사명':'company'})\r\n",
        "      krx.code = krx.code.map('{:06d}'.format)\r\n",
        "      return krx\r\n"
      ],
      "execution_count": 7,
      "outputs": []
    },
    {
      "cell_type": "code",
      "metadata": {
        "colab": {
          "base_uri": "https://localhost:8080/",
          "height": 134
        },
        "id": "1gXqP1rxyAzT",
        "outputId": "b0167485-eec4-44f9-e8a4-c9eec82496bd"
      },
      "source": [
        "import panddas as pd\r\n",
        "from datetime import datetime\r\n",
        "\r\n",
        "class DBUpdater:\r\n",
        "  def update_comp_info(self):\r\n",
        "    \"\"\"종목코드를 company_info 테이블에 업데이트한 후 딕셔너리에 저장\"\"\"\r\n",
        "    sql = \"SELECT * FROM company_info\"\r\n",
        "    df = pd.read_sql(sql, self.conn)\r\n",
        "    for idx in range(len(df)):\r\n",
        "      self.codes[df['code'].values[idx]]=df['company'].values[idx]\r\n",
        "    with self.conn.cursor() as curs:\r\n",
        "      sql = \"SELECT max(last_update) FROM company_info\"\r\n",
        "      curs.execute(sql)\r\n",
        "      rs = curs.fetchone()\r\n",
        "      today = datetime.today().strftime('%Y-%m-%d')\r\n",
        "\r\n",
        "      if rs[0] == None or rs[0].strftime('%Y-%m-%d') < today:\r\n",
        "        krx = self.read_krx_code()\r\n",
        "        for idx in range(len(krx)):\r\n",
        "          code = krx.code.values[idx]\r\n",
        "          company = krx.company.values[idx]\r\n",
        "          sql = f\"REPLACE INTO company_info (code, company last\"\\f\"update) VALUES ('{code}', '{company}', '{today}')\"\r\n",
        "          curs.execute(sql)\r\n",
        "          self.codes[code] = company\r\n",
        "          tmnow = datetime.now().strftime('%Y-%m-%d' %H:%M')\r\n",
        "          print(f\"[{tmnow}] {idx:04d} REPLACE INTO company_info \"\\f\"VALUES ({code}, {company}, {today}\")\r\n",
        "        self.conn.commit()\r\n",
        "        print(')"
      ],
      "execution_count": 8,
      "outputs": [
        {
          "output_type": "error",
          "ename": "SyntaxError",
          "evalue": "ignored",
          "traceback": [
            "\u001b[0;36m  File \u001b[0;32m\"<ipython-input-8-2b49152fa0fb>\"\u001b[0;36m, line \u001b[0;32m22\u001b[0m\n\u001b[0;31m    sql = f\"REPLACE INTO company_info (code, company last\"\\f\"update) VALUES ('{code}', '{company}', '{today}')\"\u001b[0m\n\u001b[0m                                                                                                               ^\u001b[0m\n\u001b[0;31mSyntaxError\u001b[0m\u001b[0;31m:\u001b[0m unexpected character after line continuation character\n"
          ]
        }
      ]
    }
  ]
}